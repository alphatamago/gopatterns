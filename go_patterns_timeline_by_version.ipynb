{
 "cells": [
  {
   "cell_type": "code",
   "execution_count": 1,
   "metadata": {},
   "outputs": [],
   "source": [
    "from collections import namedtuple\n",
    "import re\n",
    "import sys\n",
    "import time\n",
    "\n",
    "import numpy as np\n",
    "import pandas as pd\n",
    "\n",
    "import matplotlib\n",
    "import matplotlib.pyplot as plt\n",
    "\n",
    "%matplotlib inline"
   ]
  },
  {
   "cell_type": "code",
   "execution_count": 2,
   "metadata": {},
   "outputs": [],
   "source": [
    "from gopatterns.common import *\n",
    "from utils.jgoboard_utils import *"
   ]
  },
  {
   "cell_type": "code",
   "execution_count": 4,
   "metadata": {},
   "outputs": [],
   "source": [
    "# This cell is specific to aggregating LeelaZero training game pattern extraction, which was done in two chunks\n",
    "csv_pathnames = [\"leelazero_lz_matches_min2_max6_20180325_first_index0_max_num_versions200_max_games_per_version1000.csv\",\n",
    "                \"leelazero_lz_matches_min7_max12_20180325_first_index0_max_num_versions200_max_games_per_version1000.csv\"]\n",
    "\n",
    "csv_files = []\n",
    "for csv_pathname in csv_pathnames:\n",
    "    csv_files.append(pd.read_csv(csv_pathname))\n",
    "collection_df = pd.concat(csv_files)\n",
    "\n",
    "print(collection_df.columns, collection_df.shape)\n",
    "aggregated_filename = \"leelazero_lz_matches_all_20180325_corners9x9_stones.min2_max12_max_games_per_version1000.csv\"\n",
    "collection_df.to_csv(aggregated_filename, index=None)"
   ]
  },
  {
   "cell_type": "code",
   "execution_count": 6,
   "metadata": {},
   "outputs": [
    {
     "data": {
      "text/plain": [
       "(Index(['pattern', 'version'], dtype='object'), (4046488, 2))"
      ]
     },
     "execution_count": 6,
     "metadata": {},
     "output_type": "execute_result"
    }
   ],
   "source": []
  },
  {
   "cell_type": "code",
   "execution_count": 19,
   "metadata": {},
   "outputs": [],
   "source": []
  },
  {
   "cell_type": "code",
   "execution_count": 7,
   "metadata": {},
   "outputs": [],
   "source": []
  },
  {
   "cell_type": "code",
   "execution_count": null,
   "metadata": {},
   "outputs": [],
   "source": []
  },
  {
   "cell_type": "code",
   "execution_count": 4,
   "metadata": {},
   "outputs": [],
   "source": [
    "dataset_name = r\"C:\\Users\\sorin\\Documents\\GitHub\\gopatterns\\collection_human_games_9.9.2.12.100.True_numgames_202804.csv\""
   ]
  },
  {
   "cell_type": "code",
   "execution_count": 5,
   "metadata": {},
   "outputs": [],
   "source": [
    "collection_df = pd.read_csv(dataset_name) # , nrows=1000000)"
   ]
  },
  {
   "cell_type": "code",
   "execution_count": 6,
   "metadata": {},
   "outputs": [
    {
     "data": {
      "text/plain": [
       "(Index(['pattern', 'sgf_filename', 'year'], dtype='object'), (6657263, 3))"
      ]
     },
     "execution_count": 6,
     "metadata": {},
     "output_type": "execute_result"
    }
   ],
   "source": [
    "collection_df.columns, collection_df.shape"
   ]
  },
  {
   "cell_type": "code",
   "execution_count": 7,
   "metadata": {},
   "outputs": [
    {
     "data": {
      "text/html": [
       "<div>\n",
       "<style scoped>\n",
       "    .dataframe tbody tr th:only-of-type {\n",
       "        vertical-align: middle;\n",
       "    }\n",
       "\n",
       "    .dataframe tbody tr th {\n",
       "        vertical-align: top;\n",
       "    }\n",
       "\n",
       "    .dataframe thead th {\n",
       "        text-align: right;\n",
       "    }\n",
       "</style>\n",
       "<table border=\"1\" class=\"dataframe\">\n",
       "  <thead>\n",
       "    <tr style=\"text-align: right;\">\n",
       "      <th></th>\n",
       "      <th>pattern</th>\n",
       "      <th>sgf_filename</th>\n",
       "      <th>year</th>\n",
       "    </tr>\n",
       "  </thead>\n",
       "  <tbody>\n",
       "    <tr>\n",
       "      <th>0</th>\n",
       "      <td>. . . . . . . . . =\\r\\n. . . . . . . . . =\\r\\n...</td>\n",
       "      <td>C:\\Users\\sorin\\kifu\\collections\\aeb\\games\\Agon...</td>\n",
       "      <td>1994</td>\n",
       "    </tr>\n",
       "    <tr>\n",
       "      <th>1</th>\n",
       "      <td>. . . . . . . . . =\\r\\n. . . . . . . . . =\\r\\n...</td>\n",
       "      <td>C:\\Users\\sorin\\kifu\\collections\\aeb\\games\\Agon...</td>\n",
       "      <td>1994</td>\n",
       "    </tr>\n",
       "    <tr>\n",
       "      <th>2</th>\n",
       "      <td>. . . . . . . . . =\\r\\n. . . . . . . . . =\\r\\n...</td>\n",
       "      <td>C:\\Users\\sorin\\kifu\\collections\\aeb\\games\\Agon...</td>\n",
       "      <td>1994</td>\n",
       "    </tr>\n",
       "    <tr>\n",
       "      <th>3</th>\n",
       "      <td>. . . . . . . . . =\\r\\n. . . . . . . . . =\\r\\n...</td>\n",
       "      <td>C:\\Users\\sorin\\kifu\\collections\\aeb\\games\\Agon...</td>\n",
       "      <td>1994</td>\n",
       "    </tr>\n",
       "    <tr>\n",
       "      <th>4</th>\n",
       "      <td>. . . . . . . . . =\\r\\n. . . . . . b . . =\\r\\n...</td>\n",
       "      <td>C:\\Users\\sorin\\kifu\\collections\\aeb\\games\\Agon...</td>\n",
       "      <td>1994</td>\n",
       "    </tr>\n",
       "  </tbody>\n",
       "</table>\n",
       "</div>"
      ],
      "text/plain": [
       "                                             pattern  \\\n",
       "0  . . . . . . . . . =\\r\\n. . . . . . . . . =\\r\\n...   \n",
       "1  . . . . . . . . . =\\r\\n. . . . . . . . . =\\r\\n...   \n",
       "2  . . . . . . . . . =\\r\\n. . . . . . . . . =\\r\\n...   \n",
       "3  . . . . . . . . . =\\r\\n. . . . . . . . . =\\r\\n...   \n",
       "4  . . . . . . . . . =\\r\\n. . . . . . b . . =\\r\\n...   \n",
       "\n",
       "                                        sgf_filename  year  \n",
       "0  C:\\Users\\sorin\\kifu\\collections\\aeb\\games\\Agon...  1994  \n",
       "1  C:\\Users\\sorin\\kifu\\collections\\aeb\\games\\Agon...  1994  \n",
       "2  C:\\Users\\sorin\\kifu\\collections\\aeb\\games\\Agon...  1994  \n",
       "3  C:\\Users\\sorin\\kifu\\collections\\aeb\\games\\Agon...  1994  \n",
       "4  C:\\Users\\sorin\\kifu\\collections\\aeb\\games\\Agon...  1994  "
      ]
     },
     "execution_count": 7,
     "metadata": {},
     "output_type": "execute_result"
    }
   ],
   "source": [
    "collection_df.head()"
   ]
  },
  {
   "cell_type": "code",
   "execution_count": 21,
   "metadata": {},
   "outputs": [],
   "source": [
    "years, freqs = tuple(zip(*sorted(collection_df['year'][collection_df['year'] >= 1800].value_counts().items(), key=lambda x: x[0])))"
   ]
  },
  {
   "cell_type": "code",
   "execution_count": 50,
   "metadata": {},
   "outputs": [
    {
     "data": {
      "image/png": "[encoded data removed]",
      "text/plain": [
       "<matplotlib.figure.Figure at 0x1d70795c080>"
      ]
     },
     "metadata": {},
     "output_type": "display_data"
    }
   ],
   "source": [
    "fig = plt.figure()\n",
    "ax = fig.add_subplot(111)\n",
    "ax.plot([11, 22, 33, 44])\n",
    "# ax.set_xticklabels(['d', 'a', 'c', 'b'])\n",
    "\n",
    "plt.tick_params(\n",
    "                axis='x', \n",
    "                which='both',\n",
    "                bottom='off',\n",
    "                top='off',\n",
    "                labelbottom='off')\n",
    "\n",
    "plt.show()"
   ]
  },
  {
   "cell_type": "code",
   "execution_count": 48,
   "metadata": {},
   "outputs": [
    {
     "data": {
      "text/plain": [
       "[Text(0,0,'y'),\n",
       " Text(0,0,'d'),\n",
       " Text(0,0,'a'),\n",
       " Text(0,0,'c'),\n",
       " Text(0,0,'b'),\n",
       " Text(0,0,'x')]"
      ]
     },
     "execution_count": 48,
     "metadata": {},
     "output_type": "execute_result"
    },
    {
     "data": {
      "image/png": "[encoded data removed]",
      "text/plain": [
       "<matplotlib.figure.Figure at 0x1d702e6e5c0>"
      ]
     },
     "metadata": {},
     "output_type": "display_data"
    }
   ],
   "source": [
    "fig = plt.figure()\n",
    "ax = fig.add_subplot(111)\n",
    "y = [100, 99, 93, 88, 85, 43]\n",
    "xt = ('y', 'd', 'a', 'c', 'b', 'x')# [0, 5, 4, 3, 2, 1]\n",
    "ax.plot(y)\n",
    "ax.set_xticklabels(xt)"
   ]
  },
  {
   "cell_type": "code",
   "execution_count": 36,
   "metadata": {},
   "outputs": [
    {
     "data": {
      "text/plain": [
       "<Container object of 215 artists>"
      ]
     },
     "execution_count": 36,
     "metadata": {},
     "output_type": "execute_result"
    },
    {
     "data": {
      "image/png": "[encoded data removed]",
      "text/plain": [
       "<matplotlib.figure.Figure at 0x1d7029d6128>"
      ]
     },
     "metadata": {},
     "output_type": "display_data"
    }
   ],
   "source": [
    "plt.figure(figsize=(15, 5))\n",
    "plt.bar(years, freqs)"
   ]
  },
  {
   "cell_type": "code",
   "execution_count": 35,
   "metadata": {},
   "outputs": [
    {
     "name": "stdout",
     "output_type": "stream",
     "text": [
      "int64\n"
     ]
    },
    {
     "data": {
      "text/plain": [
       "(6306880, 3)"
      ]
     },
     "execution_count": 35,
     "metadata": {},
     "output_type": "execute_result"
    }
   ],
   "source": [
    "timeline_column = 'year'\n",
    "min_epoch = '1900'\n",
    "print(collection_df[timeline_column].dtype)\n",
    "if collection_df[timeline_column].dtype != np.object:\n",
    "    min_epoch = int(min_epoch)\n",
    "collection_df[collection_df[timeline_column] >= min_epoch].shape"
   ]
  },
  {
   "cell_type": "code",
   "execution_count": 28,
   "metadata": {},
   "outputs": [
    {
     "data": {
      "text/plain": [
       "dtype('int64')"
      ]
     },
     "execution_count": 28,
     "metadata": {},
     "output_type": "execute_result"
    }
   ],
   "source": [
    "collection_df['year'].dtype"
   ]
  },
  {
   "cell_type": "code",
   "execution_count": null,
   "metadata": {},
   "outputs": [],
   "source": []
  },
  {
   "cell_type": "code",
   "execution_count": 24,
   "metadata": {},
   "outputs": [
    {
     "name": "stdout",
     "output_type": "stream",
     "text": [
      "count: 100000 uniques: 4283 non-uniques: 95716\n",
      "count: 200000 uniques: 6428 non-uniques: 193571\n",
      "count: 300000 uniques: 17790 non-uniques: 282209\n",
      "count: 400000 uniques: 39171 non-uniques: 360828\n",
      "count: 500000 uniques: 83900 non-uniques: 416099\n",
      "count: 600000 uniques: 125973 non-uniques: 474025\n",
      "count: 700000 uniques: 197913 non-uniques: 502085\n",
      "count: 800000 uniques: 274573 non-uniques: 525425\n",
      "count: 900000 uniques: 347478 non-uniques: 552520\n",
      "count: 1000000 uniques: 426867 non-uniques: 573131\n"
     ]
    }
   ],
   "source": [
    "# This cell is doing analysis and filtering to identify patterns that only occur once\n",
    "collection_df = collection_df.sort_values(by='pattern')\n",
    "non_unique_rows = []\n",
    "unique_rows = []\n",
    "current_pattern = None\n",
    "current_pattern_count = 0\n",
    "num_uniques = 0\n",
    "count = 0\n",
    "for _, data in collection_df2.iterrows():\n",
    "    count += 1\n",
    "    if count % 100000 == 0:\n",
    "        print(\"count:\", count, \"uniques:\", num_uniques, \"non-uniques:\", len(non_unique_rows))\n",
    "    if current_pattern is None:\n",
    "        current_pattern = data.copy()\n",
    "        current_pattern_count = 1\n",
    "    else:\n",
    "        if data['pattern'] == current_pattern['pattern']:\n",
    "            current_pattern_count += 1\n",
    "            if current_pattern_count == 2:\n",
    "                non_unique_rows.append(current_pattern.copy())\n",
    "            non_unique_rows.append(data.copy())\n",
    "        else:\n",
    "            # Found new one\n",
    "            if current_pattern_count == 1:\n",
    "                num_uniques += 1\n",
    "                unique_rows.append(current_pattern.copy())\n",
    "            current_pattern_count = 1\n",
    "            current_pattern = data.copy()"
   ]
  },
  {
   "cell_type": "code",
   "execution_count": 25,
   "metadata": {},
   "outputs": [
    {
     "name": "stdout",
     "output_type": "stream",
     "text": [
      ". . . . . . . . . =\r\n",
      ". . . . . . . . . =\r\n",
      ". . . . . . . . . =\r\n",
      ". . . . . . . . . =\r\n",
      ". . . . . . . . . =\r\n",
      ". . . . . . . . . =\r\n",
      ". . . . . . . b . =\r\n",
      "b . . . . . . . . =\r\n",
      ". . . b . . . . . =\r\n",
      "= = = = = = = = = =\n"
     ]
    }
   ],
   "source": [
    "print(unique_rows[200].pattern)"
   ]
  },
  {
   "cell_type": "code",
   "execution_count": 26,
   "metadata": {},
   "outputs": [
    {
     "name": "stdout",
     "output_type": "stream",
     "text": [
      ". . . . . . . . . =\r\n",
      ". . . . . . . . . =\r\n",
      ". . . . . . . . . =\r\n",
      ". . . . . . . . . =\r\n",
      ". . . . . . . . . =\r\n",
      ". . . . . . . . . =\r\n",
      ". . . . . . b . . =\r\n",
      ". . . b . . . . . =\r\n",
      ". . . . . . . . . =\r\n",
      "= = = = = = = = = =\n"
     ]
    }
   ],
   "source": [
    "print(non_unique_rows[10000].pattern)"
   ]
  },
  {
   "cell_type": "code",
   "execution_count": 27,
   "metadata": {},
   "outputs": [
    {
     "data": {
      "text/plain": [
       "573131"
      ]
     },
     "execution_count": 27,
     "metadata": {},
     "output_type": "execute_result"
    }
   ],
   "source": [
    "len(non_unique_rows)"
   ]
  },
  {
   "cell_type": "code",
   "execution_count": 28,
   "metadata": {},
   "outputs": [
    {
     "data": {
      "text/plain": [
       "pandas.core.series.Series"
      ]
     },
     "execution_count": 28,
     "metadata": {},
     "output_type": "execute_result"
    }
   ],
   "source": [
    "type(non_unique_rows[0])"
   ]
  },
  {
   "cell_type": "code",
   "execution_count": 29,
   "metadata": {},
   "outputs": [],
   "source": [
    "prev_pat = None\n",
    "prev_pat_cnt = 0\n",
    "dist_counts = []\n",
    "for row in non_unique_rows[:10000]:\n",
    "    p = row.pattern\n",
    "    v = row.version\n",
    "    if prev_pat != p:\n",
    "        dist_counts.append(prev_pat_cnt)\n",
    "        prev_pat = p\n",
    "        prev_pat_cnt = 1\n",
    "    else:\n",
    "        prev_pat_cnt += 1"
   ]
  },
  {
   "cell_type": "code",
   "execution_count": 30,
   "metadata": {},
   "outputs": [
    {
     "data": {
      "text/plain": [
       "(array([ 275.,    8.,    3.,    2.,    2.,    0.,    0.,    0.,    0.,    2.]),\n",
       " array([    0. ,   124.5,   249. ,   373.5,   498. ,   622.5,   747. ,\n",
       "          871.5,   996. ,  1120.5,  1245. ]),\n",
       " <a list of 10 Patch objects>)"
      ]
     },
     "execution_count": 30,
     "metadata": {},
     "output_type": "execute_result"
    },
    {
     "data": {
      "image/png": "[encoded data removed]",
      "text/plain": [
       "<matplotlib.figure.Figure at 0x151e12f4cf8>"
      ]
     },
     "metadata": {},
     "output_type": "display_data"
    }
   ],
   "source": [
    "plt.hist(dist_counts)"
   ]
  },
  {
   "cell_type": "code",
   "execution_count": null,
   "metadata": {},
   "outputs": [],
   "source": []
  },
  {
   "cell_type": "code",
   "execution_count": 15,
   "metadata": {},
   "outputs": [],
   "source": [
    "collection_no_uniques = pd.DataFrame(non_unique_rows)"
   ]
  },
  {
   "cell_type": "code",
   "execution_count": 16,
   "metadata": {},
   "outputs": [
    {
     "data": {
      "text/plain": [
       "(447023, 2)"
      ]
     },
     "execution_count": 16,
     "metadata": {},
     "output_type": "execute_result"
    }
   ],
   "source": [
    "collection_no_uniques.shape"
   ]
  },
  {
   "cell_type": "code",
   "execution_count": 32,
   "metadata": {},
   "outputs": [],
   "source": [
    "aggregated_filename_no_uniques = \"no_uniques_\" + dataset_name"
   ]
  },
  {
   "cell_type": "code",
   "execution_count": 39,
   "metadata": {
    "scrolled": true
   },
   "outputs": [
    {
     "data": {
      "text/plain": [
       "'no_uniques_leelazero_lz_matches_9.9.2.10.100.True_TEST_first_index0_max_num_versions200_max_games_per_version1000.csv'"
      ]
     },
     "execution_count": 39,
     "metadata": {},
     "output_type": "execute_result"
    }
   ],
   "source": [
    "aggregated_filename_no_uniques"
   ]
  },
  {
   "cell_type": "code",
   "execution_count": 33,
   "metadata": {},
   "outputs": [],
   "source": [
    "collection_no_uniques.to_csv(aggregated_filename_no_uniques, index=None)"
   ]
  },
  {
   "cell_type": "code",
   "execution_count": 34,
   "metadata": {},
   "outputs": [],
   "source": [
    "collection_no_uniques2 = pd.read_csv(aggregated_filename_no_uniques)"
   ]
  },
  {
   "cell_type": "code",
   "execution_count": 35,
   "metadata": {},
   "outputs": [
    {
     "data": {
      "text/plain": [
       "(Index(['pattern', 'version'], dtype='object'),\n",
       " (447023, 2),\n",
       " Index(['pattern', 'version'], dtype='object'),\n",
       " (447023, 2))"
      ]
     },
     "execution_count": 35,
     "metadata": {},
     "output_type": "execute_result"
    }
   ],
   "source": [
    "collection_no_uniques.columns, collection_no_uniques.shape, collection_no_uniques2.columns, collection_no_uniques2.shape"
   ]
  },
  {
   "cell_type": "code",
   "execution_count": 36,
   "metadata": {},
   "outputs": [
    {
     "data": {
      "text/html": [
       "<div>\n",
       "<style scoped>\n",
       "    .dataframe tbody tr th:only-of-type {\n",
       "        vertical-align: middle;\n",
       "    }\n",
       "\n",
       "    .dataframe tbody tr th {\n",
       "        vertical-align: top;\n",
       "    }\n",
       "\n",
       "    .dataframe thead th {\n",
       "        text-align: right;\n",
       "    }\n",
       "</style>\n",
       "<table border=\"1\" class=\"dataframe\">\n",
       "  <thead>\n",
       "    <tr style=\"text-align: right;\">\n",
       "      <th></th>\n",
       "      <th>pattern</th>\n",
       "      <th>version</th>\n",
       "    </tr>\n",
       "  </thead>\n",
       "  <tbody>\n",
       "    <tr>\n",
       "      <th>886717</th>\n",
       "      <td>. . . . . . . . . =\\r\\n. . . . . . . . . =\\r\\n...</td>\n",
       "      <td>0d3ce145</td>\n",
       "    </tr>\n",
       "    <tr>\n",
       "      <th>886760</th>\n",
       "      <td>. . . . . . . . . =\\r\\n. . . . . . . . . =\\r\\n...</td>\n",
       "      <td>fe3f6afd</td>\n",
       "    </tr>\n",
       "    <tr>\n",
       "      <th>946340</th>\n",
       "      <td>. . . . . . . . . =\\r\\n. . . . . . . . . =\\r\\n...</td>\n",
       "      <td>0d3ce145</td>\n",
       "    </tr>\n",
       "    <tr>\n",
       "      <th>946383</th>\n",
       "      <td>. . . . . . . . . =\\r\\n. . . . . . . . . =\\r\\n...</td>\n",
       "      <td>fe3f6afd</td>\n",
       "    </tr>\n",
       "    <tr>\n",
       "      <th>346214</th>\n",
       "      <td>. . . . . . . . . =\\r\\n. . . . . . . . . =\\r\\n...</td>\n",
       "      <td>d5b7aec3</td>\n",
       "    </tr>\n",
       "  </tbody>\n",
       "</table>\n",
       "</div>"
      ],
      "text/plain": [
       "                                                  pattern   version\n",
       "886717  . . . . . . . . . =\\r\\n. . . . . . . . . =\\r\\n...  0d3ce145\n",
       "886760  . . . . . . . . . =\\r\\n. . . . . . . . . =\\r\\n...  fe3f6afd\n",
       "946340  . . . . . . . . . =\\r\\n. . . . . . . . . =\\r\\n...  0d3ce145\n",
       "946383  . . . . . . . . . =\\r\\n. . . . . . . . . =\\r\\n...  fe3f6afd\n",
       "346214  . . . . . . . . . =\\r\\n. . . . . . . . . =\\r\\n...  d5b7aec3"
      ]
     },
     "execution_count": 36,
     "metadata": {},
     "output_type": "execute_result"
    }
   ],
   "source": [
    "collection_no_uniques.head()"
   ]
  },
  {
   "cell_type": "code",
   "execution_count": 37,
   "metadata": {},
   "outputs": [
    {
     "name": "stdout",
     "output_type": "stream",
     "text": [
      ". . . . . . . . . =\r\n",
      ". . . . . . . . . =\r\n",
      ". . . . . . . . . =\r\n",
      ". . . . . . . . . =\r\n",
      ". . . . . . . . . =\r\n",
      ". . . . . . . . . =\r\n",
      ". . . . . . . . . =\r\n",
      ". . . . . . b w . =\r\n",
      ". . . . . . . . . =\r\n",
      "= = = = = = = = = =\n"
     ]
    }
   ],
   "source": [
    "print(collection_no_uniques.iloc[100].pattern)"
   ]
  },
  {
   "cell_type": "code",
   "execution_count": 38,
   "metadata": {},
   "outputs": [
    {
     "name": "stdout",
     "output_type": "stream",
     "text": [
      ". . . . . . . . . =\r",
      "\r\n",
      ". . . . . . . . . =\r",
      "\r\n",
      ". . . . . . . . . =\r",
      "\r\n",
      ". . . . . . . . . =\r",
      "\r\n",
      ". . . . . . . . . =\r",
      "\r\n",
      ". . . . . . . . . =\r",
      "\r\n",
      ". . . . . . . . . =\r",
      "\r\n",
      ". . . . b w . . . =\r",
      "\r\n",
      ". . . . . . . . . =\r",
      "\r\n",
      "= = = = = = = = = =\n"
     ]
    }
   ],
   "source": [
    "print(collection_no_uniques2.iloc[1001].pattern)"
   ]
  },
  {
   "cell_type": "code",
   "execution_count": null,
   "metadata": {},
   "outputs": [],
   "source": []
  }
 ],
 "metadata": {
  "kernelspec": {
   "display_name": "Python 3",
   "language": "python",
   "name": "python3"
  },
  "language_info": {
   "codemirror_mode": {
    "name": "ipython",
    "version": 3
   },
   "file_extension": ".py",
   "mimetype": "text/x-python",
   "name": "python",
   "nbconvert_exporter": "python",
   "pygments_lexer": "ipython3",
   "version": "3.6.2"
  }
 },
 "nbformat": 4,
 "nbformat_minor": 2
}
