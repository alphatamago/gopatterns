{
 "cells": [
  {
   "cell_type": "code",
   "execution_count": 1,
   "metadata": {},
   "outputs": [],
   "source": [
    "from collections import namedtuple\n",
    "import re\n",
    "import sys\n",
    "\n",
    "import numpy as np\n",
    "import pandas as pd\n",
    "\n",
    "import matplotlib\n",
    "import matplotlib.pyplot as plt\n",
    "\n",
    "%matplotlib inline"
   ]
  },
  {
   "cell_type": "code",
   "execution_count": 2,
   "metadata": {},
   "outputs": [],
   "source": [
    "df = pd.read_csv(\"C:/Users/sorin/Documents/GitHub/gopatterns/leelazero_lz_training_10x10_min1_max6_upto_20180423_fullrun_skip_num_games0_max_num_versions1000_max_games_per_version1000.csv\")"
   ]
  },
  {
   "cell_type": "code",
   "execution_count": 3,
   "metadata": {},
   "outputs": [
    {
     "data": {
      "text/plain": [
       "(3580935, 2)"
      ]
     },
     "execution_count": 3,
     "metadata": {},
     "output_type": "execute_result"
    }
   ],
   "source": [
    "df.shape"
   ]
  },
  {
   "cell_type": "code",
   "execution_count": 4,
   "metadata": {},
   "outputs": [
    {
     "data": {
      "text/html": [
       "<div>\n",
       "<style scoped>\n",
       "    .dataframe tbody tr th:only-of-type {\n",
       "        vertical-align: middle;\n",
       "    }\n",
       "\n",
       "    .dataframe tbody tr th {\n",
       "        vertical-align: top;\n",
       "    }\n",
       "\n",
       "    .dataframe thead th {\n",
       "        text-align: right;\n",
       "    }\n",
       "</style>\n",
       "<table border=\"1\" class=\"dataframe\">\n",
       "  <thead>\n",
       "    <tr style=\"text-align: right;\">\n",
       "      <th></th>\n",
       "      <th>pattern</th>\n",
       "      <th>version</th>\n",
       "    </tr>\n",
       "  </thead>\n",
       "  <tbody>\n",
       "    <tr>\n",
       "      <th>0</th>\n",
       "      <td>. . . . . . . . . . =\\r\\n. . . . . . . . . . =...</td>\n",
       "      <td>d645af97</td>\n",
       "    </tr>\n",
       "    <tr>\n",
       "      <th>1</th>\n",
       "      <td>. . . . . . . . . . =\\r\\n. . . . . . . . . . =...</td>\n",
       "      <td>d645af97</td>\n",
       "    </tr>\n",
       "    <tr>\n",
       "      <th>2</th>\n",
       "      <td>. . . . . . . . . . =\\r\\n. . . . . . . . . . =...</td>\n",
       "      <td>d645af97</td>\n",
       "    </tr>\n",
       "    <tr>\n",
       "      <th>3</th>\n",
       "      <td>. . . . . . . . . . =\\r\\n. . . . . . . . . . =...</td>\n",
       "      <td>d645af97</td>\n",
       "    </tr>\n",
       "    <tr>\n",
       "      <th>4</th>\n",
       "      <td>. . . . . . . . . . =\\r\\n. . . . . . . . . . =...</td>\n",
       "      <td>d645af97</td>\n",
       "    </tr>\n",
       "  </tbody>\n",
       "</table>\n",
       "</div>"
      ],
      "text/plain": [
       "                                             pattern   version\n",
       "0  . . . . . . . . . . =\\r\\n. . . . . . . . . . =...  d645af97\n",
       "1  . . . . . . . . . . =\\r\\n. . . . . . . . . . =...  d645af97\n",
       "2  . . . . . . . . . . =\\r\\n. . . . . . . . . . =...  d645af97\n",
       "3  . . . . . . . . . . =\\r\\n. . . . . . . . . . =...  d645af97\n",
       "4  . . . . . . . . . . =\\r\\n. . . . . . . . . . =...  d645af97"
      ]
     },
     "execution_count": 4,
     "metadata": {},
     "output_type": "execute_result"
    }
   ],
   "source": [
    "df.head()"
   ]
  },
  {
   "cell_type": "code",
   "execution_count": 5,
   "metadata": {},
   "outputs": [
    {
     "data": {
      "text/plain": [
       "808ac5f3    30972\n",
       "3ba92804    30807\n",
       "eebb910d    30731\n",
       "1607dbea    30456\n",
       "d11131e3    30427\n",
       "ce1aa643    30296\n",
       "4e4d09be    30267\n",
       "4701bb9f    30249\n",
       "e671af6f    30221\n",
       "a0d3531f    30118\n",
       "fe7a6c28    30114\n",
       "fe3f6afd    30026\n",
       "251b7ca8    29811\n",
       "857b975e    29771\n",
       "5bcb392e    29765\n",
       "e6779c9b    29759\n",
       "4d9a5cfc    29705\n",
       "6f274ab1    29647\n",
       "96bf20e7    29535\n",
       "273a029d    29480\n",
       "657f91c7    29448\n",
       "22373747    29406\n",
       "92c658d7    29367\n",
       "2184b750    29279\n",
       "ad8a1d02    29232\n",
       "154eaebd    29217\n",
       "7ba9d22c    28937\n",
       "3382a7d3    28881\n",
       "1ac2638d    28864\n",
       "8f0031dd    28800\n",
       "            ...  \n",
       "e9c2c70b    26377\n",
       "3f6c8dd8    26373\n",
       "02e663b0    26366\n",
       "8c67ecdc    26362\n",
       "58da6176    26358\n",
       "0c094151    26253\n",
       "85c6f2ad    26227\n",
       "c99f1ae0    26208\n",
       "8ed44722    26203\n",
       "c4611a60    26154\n",
       "097deeb9    26126\n",
       "b02f6fac    26110\n",
       "0f6a8c5f    26057\n",
       "39fe0ce3    26057\n",
       "55bf55dc    25539\n",
       "509e5202    25468\n",
       "76347a12    25415\n",
       "65e94e52    25148\n",
       "7fcf3c16    25045\n",
       "391d850e    25005\n",
       "83015869    24939\n",
       "ffc1e51b    24871\n",
       "1e2b85cf    24787\n",
       "e5e72b39    24576\n",
       "ded4b48e    19884\n",
       "0d7766a4      872\n",
       "d645af97      470\n",
       "leelaz-m       89\n",
       "25e452e3       49\n",
       "/1ccb734       26\n",
       "Name: version, Length: 135, dtype: int64"
      ]
     },
     "execution_count": 5,
     "metadata": {},
     "output_type": "execute_result"
    }
   ],
   "source": [
    "df['version'].value_counts()"
   ]
  },
  {
   "cell_type": "code",
   "execution_count": null,
   "metadata": {},
   "outputs": [],
   "source": []
  }
 ],
 "metadata": {
  "kernelspec": {
   "display_name": "Python 3",
   "language": "python",
   "name": "python3"
  },
  "language_info": {
   "codemirror_mode": {
    "name": "ipython",
    "version": 3
   },
   "file_extension": ".py",
   "mimetype": "text/x-python",
   "name": "python",
   "nbconvert_exporter": "python",
   "pygments_lexer": "ipython3",
   "version": "3.6.2"
  }
 },
 "nbformat": 4,
 "nbformat_minor": 2
}
